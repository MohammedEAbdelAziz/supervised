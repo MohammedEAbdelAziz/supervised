{
 "cells": [
  {
   "cell_type": "markdown",
   "id": "cabb341a",
   "metadata": {},
   "source": [
    "# Authors\n",
    "\n",
    " - Mohammed Essam Mohammed 20220299\n",
    " - Amr Ehab Abd-Al-Zaher 20221110 "
   ]
  },
  {
   "cell_type": "code",
   "execution_count": 1,
   "id": "8cd4ff9a",
   "metadata": {},
   "outputs": [],
   "source": [
    "# %pip install scikit-learn tensorflow\n",
    "import time\n",
    "import numpy as np\n",
    "import tensorflow as tf\n",
    "from tensorflow import keras\n",
    "from tensorflow.keras import layers, models, optimizers\n",
    "from sklearn import svm\n",
    "from sklearn.metrics import accuracy_score\n",
    "from sklearn.preprocessing import OneHotEncoder"
   ]
  },
  {
   "cell_type": "code",
   "execution_count": 2,
   "id": "ea420e7f",
   "metadata": {},
   "outputs": [],
   "source": [
    "def log_experiment(name, hyperparams, history, train_time, test_time, model=None):\n",
    "    print(f\"\\n--- {name} ---\")\n",
    "    print(\"Hyperparameters:\", hyperparams)\n",
    "    if model:\n",
    "        model.summary()\n",
    "        print(\"Total parameters:\", model.count_params())\n",
    "    print(\"Training time (s):\", train_time)\n",
    "    print(\"Testing time (s):\", test_time)\n",
    "    print(\"First 5 epochs accuracy:\", history['accuracy'][:5] if 'accuracy' in history else history[:5])\n",
    "    print(\"Final accuracy:\", history['accuracy'][-1] if 'accuracy' in history else history[-1])"
   ]
  },
  {
   "cell_type": "code",
   "execution_count": 3,
   "id": "0a35fc88",
   "metadata": {},
   "outputs": [],
   "source": [
    "def load_preprocess_mnist():\n",
    "    (x_train, y_train), (x_test, y_test) = keras.datasets.mnist.load_data()\n",
    "    x_train = x_train.astype('float32') / 255.0\n",
    "    x_test = x_test.astype('float32') / 255.0\n",
    "    x_train = np.expand_dims(x_train, -1)\n",
    "    x_test = np.expand_dims(x_test, -1)\n",
    "    # One-hot encode labels\n",
    "    y_train_cat = keras.utils.to_categorical(y_train, 10)\n",
    "    y_test_cat = keras.utils.to_categorical(y_test, 10)\n",
    "    # Shuffle training data\n",
    "    idx = np.random.permutation(len(x_train))\n",
    "    x_train, y_train, y_train_cat = x_train[idx], y_train[idx], y_train_cat[idx]\n",
    "    return (x_train, y_train, y_train_cat), (x_test, y_test, y_test_cat)\n"
   ]
  },
  {
   "cell_type": "code",
   "execution_count": 4,
   "id": "f3ec9f08",
   "metadata": {},
   "outputs": [],
   "source": [
    "def build_ann(input_shape=(28,28,1), num_classes=10, hidden_units=128, activation='relu'):\n",
    "    model = keras.Sequential([\n",
    "        layers.Flatten(input_shape=input_shape),\n",
    "        layers.Dense(hidden_units, activation=activation),\n",
    "        layers.Dense(num_classes, activation='softmax')\n",
    "    ])\n",
    "    return model\n",
    "\n",
    "# --- SECTION: Baseline SVM Model ---\n",
    "def train_svm(x_train, y_train, x_test, y_test):\n",
    "    # Flatten images\n",
    "    x_train_flat = x_train.reshape((x_train.shape[0], -1))\n",
    "    x_test_flat = x_test.reshape((x_test.shape[0], -1))\n",
    "    clf = svm.SVC()\n",
    "    start = time.time()\n",
    "    clf.fit(x_train_flat, y_train)\n",
    "    train_time = time.time() - start\n",
    "    start = time.time()\n",
    "    y_pred = clf.predict(x_test_flat)\n",
    "    test_time = time.time() - start\n",
    "    acc = accuracy_score(y_test, y_pred)\n",
    "    return clf, train_time, test_time, acc\n",
    "\n",
    "# --- SECTION: CNN Model Builder ---\n",
    "def build_cnn(input_shape=(28,28,1), num_classes=10, \n",
    "              conv_layers=2, filters=[32,64], kernel_size=3, \n",
    "              fc_layers=1, fc_units=[128], activation='relu', \n",
    "              dropout=None, dropout_rate=0.5):\n",
    "    model = keras.Sequential()\n",
    "    for i in range(conv_layers):\n",
    "        if i == 0:\n",
    "            model.add(layers.Conv2D(filters[i], (kernel_size, kernel_size), activation=activation, input_shape=input_shape))\n",
    "        else:\n",
    "            model.add(layers.Conv2D(filters[i], (kernel_size, kernel_size), activation=activation))\n",
    "        if i == 0:\n",
    "            model.add(layers.MaxPooling2D((2,2)))\n",
    "        if dropout and i in dropout:\n",
    "            model.add(layers.Dropout(dropout_rate))\n",
    "    model.add(layers.Flatten())\n",
    "    for i in range(fc_layers):\n",
    "        model.add(layers.Dense(fc_units[i], activation=activation))\n",
    "        if dropout and (conv_layers + i) in dropout:\n",
    "            model.add(layers.Dropout(dropout_rate))\n",
    "    model.add(layers.Dense(num_classes, activation='softmax'))\n",
    "    return model\n"
   ]
  },
  {
   "cell_type": "code",
   "execution_count": 5,
   "id": "3ea435f3",
   "metadata": {},
   "outputs": [],
   "source": [
    "def train_model(model, x_train, y_train, x_test, y_test, \n",
    "                optimizer, loss, batch_size=64, epochs=10):\n",
    "    model.compile(optimizer=optimizer, loss=loss, metrics=['accuracy'])\n",
    "    start = time.time()\n",
    "    history = model.fit(x_train, y_train, batch_size=batch_size, epochs=epochs, \n",
    "                        validation_data=(x_test, y_test), verbose=0)\n",
    "    train_time = time.time() - start\n",
    "    start = time.time()\n",
    "    test_loss, test_acc = model.evaluate(x_test, y_test, verbose=0)\n",
    "    test_time = time.time() - start\n",
    "    return history.history, train_time, test_time, test_acc"
   ]
  },
  {
   "cell_type": "code",
   "execution_count": 6,
   "id": "4aff2803",
   "metadata": {},
   "outputs": [
    {
     "name": "stdout",
     "output_type": "stream",
     "text": [
      "Downloading data from https://storage.googleapis.com/tensorflow/tf-keras-datasets/mnist.npz\n",
      "\u001b[1m11490434/11490434\u001b[0m \u001b[32m━━━━━━━━━━━━━━━━━━━━\u001b[0m\u001b[37m\u001b[0m \u001b[1m3s\u001b[0m 0us/step\n"
     ]
    }
   ],
   "source": [
    "(x_train, y_train, y_train_cat), (x_test, y_test, y_test_cat) = load_preprocess_mnist()\n"
   ]
  },
  {
   "cell_type": "code",
   "execution_count": 7,
   "id": "0987e020",
   "metadata": {},
   "outputs": [
    {
     "name": "stdout",
     "output_type": "stream",
     "text": [
      "\n",
      "# STEP 1: Baseline ANN\n"
     ]
    },
    {
     "name": "stderr",
     "output_type": "stream",
     "text": [
      "c:\\Users\\moham\\OneDrive\\Documents\\Projects\\Assignments\\3rdyear\\2nd\\supervised\\project\\.venv\\Lib\\site-packages\\keras\\src\\layers\\reshaping\\flatten.py:37: UserWarning: Do not pass an `input_shape`/`input_dim` argument to a layer. When using Sequential models, prefer using an `Input(shape)` object as the first layer in the model instead.\n",
      "  super().__init__(**kwargs)\n"
     ]
    },
    {
     "name": "stdout",
     "output_type": "stream",
     "text": [
      "\n",
      "--- ANN Baseline ---\n",
      "Hyperparameters: {'optimizer': 'Adam', 'batch_size': 64, 'epochs': 10, 'activation': 'relu'}\n"
     ]
    },
    {
     "data": {
      "text/html": [
       "<pre style=\"white-space:pre;overflow-x:auto;line-height:normal;font-family:Menlo,'DejaVu Sans Mono',consolas,'Courier New',monospace\"><span style=\"font-weight: bold\">Model: \"sequential\"</span>\n",
       "</pre>\n"
      ],
      "text/plain": [
       "\u001b[1mModel: \"sequential\"\u001b[0m\n"
      ]
     },
     "metadata": {},
     "output_type": "display_data"
    },
    {
     "data": {
      "text/html": [
       "<pre style=\"white-space:pre;overflow-x:auto;line-height:normal;font-family:Menlo,'DejaVu Sans Mono',consolas,'Courier New',monospace\">┏━━━━━━━━━━━━━━━━━━━━━━━━━━━━━━━━━┳━━━━━━━━━━━━━━━━━━━━━━━━┳━━━━━━━━━━━━━━━┓\n",
       "┃<span style=\"font-weight: bold\"> Layer (type)                    </span>┃<span style=\"font-weight: bold\"> Output Shape           </span>┃<span style=\"font-weight: bold\">       Param # </span>┃\n",
       "┡━━━━━━━━━━━━━━━━━━━━━━━━━━━━━━━━━╇━━━━━━━━━━━━━━━━━━━━━━━━╇━━━━━━━━━━━━━━━┩\n",
       "│ flatten (<span style=\"color: #0087ff; text-decoration-color: #0087ff\">Flatten</span>)               │ (<span style=\"color: #00d7ff; text-decoration-color: #00d7ff\">None</span>, <span style=\"color: #00af00; text-decoration-color: #00af00\">784</span>)            │             <span style=\"color: #00af00; text-decoration-color: #00af00\">0</span> │\n",
       "├─────────────────────────────────┼────────────────────────┼───────────────┤\n",
       "│ dense (<span style=\"color: #0087ff; text-decoration-color: #0087ff\">Dense</span>)                   │ (<span style=\"color: #00d7ff; text-decoration-color: #00d7ff\">None</span>, <span style=\"color: #00af00; text-decoration-color: #00af00\">128</span>)            │       <span style=\"color: #00af00; text-decoration-color: #00af00\">100,480</span> │\n",
       "├─────────────────────────────────┼────────────────────────┼───────────────┤\n",
       "│ dense_1 (<span style=\"color: #0087ff; text-decoration-color: #0087ff\">Dense</span>)                 │ (<span style=\"color: #00d7ff; text-decoration-color: #00d7ff\">None</span>, <span style=\"color: #00af00; text-decoration-color: #00af00\">10</span>)             │         <span style=\"color: #00af00; text-decoration-color: #00af00\">1,290</span> │\n",
       "└─────────────────────────────────┴────────────────────────┴───────────────┘\n",
       "</pre>\n"
      ],
      "text/plain": [
       "┏━━━━━━━━━━━━━━━━━━━━━━━━━━━━━━━━━┳━━━━━━━━━━━━━━━━━━━━━━━━┳━━━━━━━━━━━━━━━┓\n",
       "┃\u001b[1m \u001b[0m\u001b[1mLayer (type)                   \u001b[0m\u001b[1m \u001b[0m┃\u001b[1m \u001b[0m\u001b[1mOutput Shape          \u001b[0m\u001b[1m \u001b[0m┃\u001b[1m \u001b[0m\u001b[1m      Param #\u001b[0m\u001b[1m \u001b[0m┃\n",
       "┡━━━━━━━━━━━━━━━━━━━━━━━━━━━━━━━━━╇━━━━━━━━━━━━━━━━━━━━━━━━╇━━━━━━━━━━━━━━━┩\n",
       "│ flatten (\u001b[38;5;33mFlatten\u001b[0m)               │ (\u001b[38;5;45mNone\u001b[0m, \u001b[38;5;34m784\u001b[0m)            │             \u001b[38;5;34m0\u001b[0m │\n",
       "├─────────────────────────────────┼────────────────────────┼───────────────┤\n",
       "│ dense (\u001b[38;5;33mDense\u001b[0m)                   │ (\u001b[38;5;45mNone\u001b[0m, \u001b[38;5;34m128\u001b[0m)            │       \u001b[38;5;34m100,480\u001b[0m │\n",
       "├─────────────────────────────────┼────────────────────────┼───────────────┤\n",
       "│ dense_1 (\u001b[38;5;33mDense\u001b[0m)                 │ (\u001b[38;5;45mNone\u001b[0m, \u001b[38;5;34m10\u001b[0m)             │         \u001b[38;5;34m1,290\u001b[0m │\n",
       "└─────────────────────────────────┴────────────────────────┴───────────────┘\n"
      ]
     },
     "metadata": {},
     "output_type": "display_data"
    },
    {
     "data": {
      "text/html": [
       "<pre style=\"white-space:pre;overflow-x:auto;line-height:normal;font-family:Menlo,'DejaVu Sans Mono',consolas,'Courier New',monospace\"><span style=\"font-weight: bold\"> Total params: </span><span style=\"color: #00af00; text-decoration-color: #00af00\">305,312</span> (1.16 MB)\n",
       "</pre>\n"
      ],
      "text/plain": [
       "\u001b[1m Total params: \u001b[0m\u001b[38;5;34m305,312\u001b[0m (1.16 MB)\n"
      ]
     },
     "metadata": {},
     "output_type": "display_data"
    },
    {
     "data": {
      "text/html": [
       "<pre style=\"white-space:pre;overflow-x:auto;line-height:normal;font-family:Menlo,'DejaVu Sans Mono',consolas,'Courier New',monospace\"><span style=\"font-weight: bold\"> Trainable params: </span><span style=\"color: #00af00; text-decoration-color: #00af00\">101,770</span> (397.54 KB)\n",
       "</pre>\n"
      ],
      "text/plain": [
       "\u001b[1m Trainable params: \u001b[0m\u001b[38;5;34m101,770\u001b[0m (397.54 KB)\n"
      ]
     },
     "metadata": {},
     "output_type": "display_data"
    },
    {
     "data": {
      "text/html": [
       "<pre style=\"white-space:pre;overflow-x:auto;line-height:normal;font-family:Menlo,'DejaVu Sans Mono',consolas,'Courier New',monospace\"><span style=\"font-weight: bold\"> Non-trainable params: </span><span style=\"color: #00af00; text-decoration-color: #00af00\">0</span> (0.00 B)\n",
       "</pre>\n"
      ],
      "text/plain": [
       "\u001b[1m Non-trainable params: \u001b[0m\u001b[38;5;34m0\u001b[0m (0.00 B)\n"
      ]
     },
     "metadata": {},
     "output_type": "display_data"
    },
    {
     "data": {
      "text/html": [
       "<pre style=\"white-space:pre;overflow-x:auto;line-height:normal;font-family:Menlo,'DejaVu Sans Mono',consolas,'Courier New',monospace\"><span style=\"font-weight: bold\"> Optimizer params: </span><span style=\"color: #00af00; text-decoration-color: #00af00\">203,542</span> (795.09 KB)\n",
       "</pre>\n"
      ],
      "text/plain": [
       "\u001b[1m Optimizer params: \u001b[0m\u001b[38;5;34m203,542\u001b[0m (795.09 KB)\n"
      ]
     },
     "metadata": {},
     "output_type": "display_data"
    },
    {
     "name": "stdout",
     "output_type": "stream",
     "text": [
      "Total parameters: 101770\n",
      "Training time (s): 24.383331298828125\n",
      "Testing time (s): 0.4466679096221924\n",
      "First 5 epochs accuracy: [0.9154833555221558, 0.9606833457946777, 0.972350001335144, 0.9785333275794983, 0.9831166863441467]\n",
      "Final accuracy: 0.9941999912261963\n",
      "\n",
      "# STEP 1: Baseline SVM\n",
      "\n",
      "--- SVM Baseline ---\n",
      "Hyperparameters: {'kernel': 'rbf', 'train_samples': 10000, 'test_samples': 2000}\n",
      "Training time (s): 10.353143692016602\n",
      "Testing time (s): 4.465569972991943\n",
      "First 5 epochs accuracy: [0.946]\n",
      "Final accuracy: 0.946\n"
     ]
    }
   ],
   "source": [
    "print(\"\\n# STEP 1: Baseline ANN\")\n",
    "ann = build_ann()\n",
    "history, train_time, test_time, test_acc = train_model(\n",
    "    ann, x_train, y_train_cat, x_test, y_test_cat,\n",
    "    optimizer=optimizers.Adam(), loss='categorical_crossentropy', batch_size=64, epochs=10)\n",
    "log_experiment(\"ANN Baseline\", \n",
    "               {\"optimizer\": \"Adam\", \"batch_size\": 64, \"epochs\": 10, \"activation\": \"relu\"}, \n",
    "               history, train_time, test_time, ann)\n",
    "\n",
    "# STEP 1: Baseline SVM\n",
    "print(\"\\n# STEP 1: Baseline SVM\")\n",
    "svm_clf, train_time, test_time, acc = train_svm(x_train[:10000], y_train[:10000], x_test[:2000], y_test[:2000])\n",
    "log_experiment(\"SVM Baseline\", \n",
    "               {\"kernel\": \"rbf\", \"train_samples\": 10000, \"test_samples\": 2000}, \n",
    "               [acc], train_time, test_time)"
   ]
  },
  {
   "cell_type": "code",
   "execution_count": null,
   "id": "4e90f112",
   "metadata": {},
   "outputs": [
    {
     "name": "stdout",
     "output_type": "stream",
     "text": [
      "\n",
      "# STEP 2: CNN Baseline\n"
     ]
    },
    {
     "name": "stderr",
     "output_type": "stream",
     "text": [
      "c:\\Users\\moham\\OneDrive\\Documents\\Projects\\Assignments\\3rdyear\\2nd\\supervised\\project\\.venv\\Lib\\site-packages\\keras\\src\\layers\\convolutional\\base_conv.py:107: UserWarning: Do not pass an `input_shape`/`input_dim` argument to a layer. When using Sequential models, prefer using an `Input(shape)` object as the first layer in the model instead.\n",
      "  super().__init__(activity_regularizer=activity_regularizer, **kwargs)\n"
     ]
    }
   ],
   "source": [
    "\n",
    "print(\"\\n# STEP 2: CNN Baseline\")\n",
    "cnn = build_cnn(conv_layers=3, filters=[32,64,128], fc_layers=1, fc_units=[128], activation='relu')\n",
    "history, train_time, test_time, test_acc = train_model(\n",
    "    cnn, x_train, y_train_cat, x_test, y_test_cat,\n",
    "    optimizer=optimizers.SGD(learning_rate=0.01, momentum=0.9), loss='categorical_crossentropy', batch_size=64, epochs=15)\n",
    "log_experiment(\"CNN Baseline\", \n",
    "               {\"optimizer\": \"SGD\", \"lr\": 0.01, \"momentum\": 0.9, \"batch_size\": 64, \"epochs\": 15, \"activation\": \"relu\"}, \n",
    "               history, train_time, test_time, cnn)"
   ]
  },
  {
   "cell_type": "code",
   "execution_count": null,
   "id": "2c047730",
   "metadata": {},
   "outputs": [],
   "source": [
    "\n",
    "print(\"\\n# STEP 3: Learning Rate Study\")\n",
    "for lr in [0.01, 0.001, 0.0001]:\n",
    "    cnn = build_cnn(conv_layers=3, filters=[32,64,128], fc_layers=1, fc_units=[128], activation='relu')\n",
    "    history, train_time, test_time, test_acc = train_model(\n",
    "        cnn, x_train, y_train_cat, x_test, y_test_cat,\n",
    "        optimizer=optimizers.SGD(learning_rate=lr, momentum=0.9), loss='categorical_crossentropy', batch_size=64, epochs=15)\n",
    "    log_experiment(f\"CNN LR={lr}\", \n",
    "                   {\"optimizer\": \"SGD\", \"lr\": lr, \"momentum\": 0.9, \"batch_size\": 64, \"epochs\": 15, \"activation\": \"relu\"}, \n",
    "                   history, train_time, test_time, cnn)"
   ]
  },
  {
   "cell_type": "code",
   "execution_count": null,
   "id": "debcc723",
   "metadata": {},
   "outputs": [],
   "source": [
    "\n",
    "print(\"\\n# STEP 4: CNN + FC Variants\")\n",
    "for conv_layers, fc_layers, filters, fc_units in [\n",
    "    (2, 1, [32,64], [128]),\n",
    "    (3, 2, [32,64,128], [256,128]),\n",
    "    (3, 1, [64,128,128], [256])\n",
    "]:\n",
    "    cnn = build_cnn(conv_layers=conv_layers, filters=filters, fc_layers=fc_layers, fc_units=fc_units, activation='relu')\n",
    "    history, train_time, test_time, test_acc = train_model(\n",
    "        cnn, x_train, y_train_cat, x_test, y_test_cat,\n",
    "        optimizer=optimizers.SGD(learning_rate=0.01, momentum=0.9), loss='categorical_crossentropy', batch_size=64, epochs=15)\n",
    "    log_experiment(f\"CNN {conv_layers}Conv {fc_layers}FC\", \n",
    "                   {\"optimizer\": \"SGD\", \"lr\": 0.01, \"momentum\": 0.9, \"batch_size\": 64, \"epochs\": 15, \"activation\": \"relu\",\n",
    "                    \"conv_layers\": conv_layers, \"fc_layers\": fc_layers, \"filters\": filters, \"fc_units\": fc_units}, \n",
    "                   history, train_time, test_time, cnn)\n"
   ]
  },
  {
   "cell_type": "code",
   "execution_count": null,
   "id": "b13a1182",
   "metadata": {},
   "outputs": [],
   "source": [
    "\n",
    "print(\"\\n# STEP 5: Batch Size Study\")\n",
    "for batch_size in [64, 128, 192]:\n",
    "    cnn = build_cnn(conv_layers=3, filters=[32,64,128], fc_layers=1, fc_units=[128], activation='relu')\n",
    "    history, train_time, test_time, test_acc = train_model(\n",
    "        cnn, x_train, y_train_cat, x_test, y_test_cat,\n",
    "        optimizer=optimizers.SGD(learning_rate=0.01, momentum=0.9), loss='categorical_crossentropy', batch_size=batch_size, epochs=15)\n",
    "    log_experiment(f\"CNN BatchSize={batch_size}\", \n",
    "                   {\"optimizer\": \"SGD\", \"lr\": 0.01, \"momentum\": 0.9, \"batch_size\": batch_size, \"epochs\": 15, \"activation\": \"relu\"}, \n",
    "                   history, train_time, test_time, cnn)"
   ]
  },
  {
   "cell_type": "code",
   "execution_count": null,
   "id": "c842183d",
   "metadata": {},
   "outputs": [],
   "source": [
    "\n",
    "print(\"\\n# STEP 6: Activation Functions\")\n",
    "for activation in ['relu', 'sigmoid', 'tanh']:\n",
    "    cnn = build_cnn(conv_layers=3, filters=[32,64,128], fc_layers=1, fc_units=[128], activation=activation)\n",
    "    history, train_time, test_time, test_acc = train_model(\n",
    "        cnn, x_train, y_train_cat, x_test, y_test_cat,\n",
    "        optimizer=optimizers.SGD(learning_rate=0.01, momentum=0.9), loss='categorical_crossentropy', batch_size=64, epochs=15)\n",
    "    log_experiment(f\"CNN Activation={activation}\", \n",
    "                   {\"optimizer\": \"SGD\", \"lr\": 0.01, \"momentum\": 0.9, \"batch_size\": 64, \"epochs\": 15, \"activation\": activation}, \n",
    "                   history, train_time, test_time, cnn)\n",
    "\n",
    "# LeakyReLU as a special case\n",
    "cnn = keras.Sequential([\n",
    "    layers.Conv2D(32, (3,3), input_shape=(28,28,1)),\n",
    "    layers.LeakyReLU(alpha=0.1),\n",
    "    layers.Conv2D(64, (3,3)),\n",
    "    layers.LeakyReLU(alpha=0.1),\n",
    "    layers.Conv2D(128, (3,3)),\n",
    "    layers.LeakyReLU(alpha=0.1),\n",
    "    layers.MaxPooling2D((2,2)),\n",
    "    layers.Flatten(),\n",
    "    layers.Dense(128),\n",
    "    layers.LeakyReLU(alpha=0.1),\n",
    "    layers.Dense(10, activation='softmax')\n",
    "])\n",
    "history, train_time, test_time, test_acc = train_model(\n",
    "    cnn, x_train, y_train_cat, x_test, y_test_cat,\n",
    "    optimizer=optimizers.SGD(learning_rate=0.01, momentum=0.9), loss='categorical_crossentropy', batch_size=64, epochs=15)\n",
    "log_experiment(\"CNN Activation=LeakyReLU\", \n",
    "               {\"optimizer\": \"SGD\", \"lr\": 0.01, \"momentum\": 0.9, \"batch_size\": 64, \"epochs\": 15, \"activation\": \"LeakyReLU\"}, \n",
    "               history, train_time, test_time, cnn)\n"
   ]
  },
  {
   "cell_type": "code",
   "execution_count": null,
   "id": "fb781a36",
   "metadata": {},
   "outputs": [],
   "source": [
    "\n",
    "print(\"\\n# STEP 7: Optimizers\")\n",
    "for opt_name, opt in [(\"Adam\", optimizers.Adam()), (\"RMSProp\", optimizers.RMSprop()), (\"SGD\", optimizers.SGD(learning_rate=0.01, momentum=0.9))]:\n",
    "    cnn = build_cnn(conv_layers=3, filters=[32,64,128], fc_layers=1, fc_units=[128], activation='relu')\n",
    "    history, train_time, test_time, test_acc = train_model(\n",
    "        cnn, x_train, y_train_cat, x_test, y_test_cat,\n",
    "        optimizer=opt, loss='categorical_crossentropy', batch_size=64, epochs=15)\n",
    "    log_experiment(f\"CNN Optimizer={opt_name}\", \n",
    "                   {\"optimizer\": opt_name, \"batch_size\": 64, \"epochs\": 15, \"activation\": \"relu\"}, \n",
    "                   history, train_time, test_time, cnn)"
   ]
  },
  {
   "cell_type": "code",
   "execution_count": null,
   "id": "dc88a71b",
   "metadata": {},
   "outputs": [],
   "source": [
    "\n",
    "print(\"\\n# STEP 8: Dropout Study\")\n",
    "for dropout_rate in [0.3, 0.5]:\n",
    "    cnn = build_cnn(conv_layers=3, filters=[32,64,128], fc_layers=1, fc_units=[128], activation='relu', dropout=[1,3], dropout_rate=dropout_rate)\n",
    "    history, train_time, test_time, test_acc = train_model(\n",
    "        cnn, x_train, y_train_cat, x_test, y_test_cat,\n",
    "        optimizer=optimizers.Adam(), loss='categorical_crossentropy', batch_size=64, epochs=15)\n",
    "    log_experiment(f\"CNN Dropout={dropout_rate}\", \n",
    "                   {\"optimizer\": \"Adam\", \"batch_size\": 64, \"epochs\": 15, \"activation\": \"relu\", \"dropout_rate\": dropout_rate}, \n",
    "                   history, train_time, test_time, cnn)"
   ]
  }
 ],
 "metadata": {
  "kernelspec": {
   "display_name": ".venv",
   "language": "python",
   "name": "python3"
  },
  "language_info": {
   "codemirror_mode": {
    "name": "ipython",
    "version": 3
   },
   "file_extension": ".py",
   "mimetype": "text/x-python",
   "name": "python",
   "nbconvert_exporter": "python",
   "pygments_lexer": "ipython3",
   "version": "3.12.9"
  }
 },
 "nbformat": 4,
 "nbformat_minor": 5
}
