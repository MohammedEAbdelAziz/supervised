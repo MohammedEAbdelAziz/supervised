{
 "cells": [
  {
   "cell_type": "markdown",
   "id": "ab47377e",
   "metadata": {},
   "source": [
    "# Authors\n",
    " - **Mohammed Essam Mohammed**       ***20220299***\n",
    " - **Amr Eihab Abdel-Zaher**         ***20221110***"
   ]
  },
  {
   "cell_type": "markdown",
   "id": "e1741c81",
   "metadata": {},
   "source": [
    " - Dataset: Free Spoken Digit Dataset (FSDD)\n",
    " - Total Samples: ~3,000 WAV files\n",
    " - Classes: 10 digits (0–9)\n",
    " - Features: 16 "
   ]
  },
  {
   "cell_type": "markdown",
   "id": "92efc660",
   "metadata": {},
   "source": [
    "### Feature Descriptions\n",
    "\n",
    "#### 1–13. MFCCs (Mel-Frequency Cepstral Coefficients)\n",
    "- **Count**: 13 features  \n",
    "- **What They Represent**:  \n",
    "    - MFCCs describe the timbre (tone quality) of the sound.\n",
    "    - They model how humans perceive pitch, especially in speech.\n",
    "- **How They Are Derived**:  \n",
    "    1. Taking a short-time Fourier Transform. \n",
    "    2. Mapping to the Mel scale (perceived pitch scale).\n",
    "    3. Applying a logarithm and then a Discrete Cosine Transform.\n",
    "- **Why Useful**:  \n",
    "    - They capture the shape of the vocal tract, which is unique for each sound.\n",
    "    - Perfect for speech-related tasks: recognizing digits, emotions, gender, etc.\n",
    "    - Think of MFCCs as a fingerprint of the sound’s texture.\n",
    "\n",
    "#### 14. Spectral Centroidectral Centroid\n",
    "- **Count**: 1 feature  \n",
    "- **What It Represents**:  \n",
    "    - The “center of mass” of the spectrum.      \n",
    "    - Measures how bright or dark a sound is.  \n",
    "    - High centroid = more high frequencies.\n",
    "- **Why Useful**:  \n",
    "    - Speech sounds like “s”, “f” (fricatives) have high centroids.\n",
    "    - Helps distinguish between types of spoken digits or speaker styles.\n",
    "    - A bit like figuring out if a voice is sharp or mellow.\n",
    "\n",
    "#### 15. Spectral Rolloff\n",
    "- **Count**: 1 feature  \n",
    "- **What It Represents**: \n",
    "    - The frequency below which a specified percentage (usually 85%) of the total spectral energy is contained.\n",
    "    - Tells how quickly energy rolls off at high frequencies.\n",
    "- **Why Useful**:  \n",
    "    - Helps detect whether a sound has more low- or high-frequency components.\n",
    "    - Can capture differences in speaker pitch or emphasis.\n",
    "    - Imagine a sound’s frequency distribution: this says how far it “reaches.”\n",
    "\n",
    "#### 16. Zero-Crossing Rate (ZCR)\n",
    "- **Count**: 1 feature  \n",
    "- **What It Represents**:\n",
    "    - The rate at which the signal changes from positive to negative or vice versa.\n",
    "    - High ZCR = more frequent sign changes = noisier or more percussive sound.\n",
    "- **Why Useful**:  \n",
    "    - Helps differentiate between voiced (vowels, digits) and unvoiced (like “s”, “t”) sounds.\n",
    "    - Good for detecting silence, fricatives, and even speaker characteristics.\n",
    "    - Think of it as a measure of how jittery or smooth the waveform is."
   ]
  },
  {
   "cell_type": "code",
   "execution_count": 1,
   "id": "8629e84e",
   "metadata": {},
   "outputs": [],
   "source": [
    "import os\n",
    "import librosa\n",
    "import numpy as np\n",
    "from sklearn.model_selection import train_test_split"
   ]
  },
  {
   "cell_type": "code",
   "execution_count": 2,
   "id": "0678246d",
   "metadata": {},
   "outputs": [],
   "source": [
    "\n",
    "def extract_features(file_path):\n",
    "    y, sr = librosa.load(file_path, sr=8000)\n",
    "    y, _ = librosa.effects.trim(y)\n",
    "\n",
    "    mfccs = np.mean(librosa.feature.mfcc(y=y, sr=sr, n_mfcc=13).T, axis=0)\n",
    "    centroid = np.mean(librosa.feature.spectral_centroid(y=y, sr=sr).T, axis=0)\n",
    "    rolloff = np.mean(librosa.feature.spectral_rolloff(y=y, sr=sr).T, axis=0)\n",
    "    zcr = np.mean(librosa.feature.zero_crossing_rate(y).T, axis=0)\n",
    "\n",
    "    return np.hstack([mfccs, centroid, rolloff, zcr])\n",
    "\n",
    "def load_fsdd_features(data_path='recordings', selected_digits=['0', '1']):\n",
    "    X, y = [], []\n",
    "    for fname in os.listdir(data_path):\n",
    "        if fname.endswith('.wav') and fname[0] in selected_digits:\n",
    "            label = int(fname[0])\n",
    "            features = extract_features(os.path.join(data_path, fname))\n",
    "            X.append(features)\n",
    "            y.append(label)\n",
    "    return np.array(X), np.array(y)"
   ]
  },
  {
   "cell_type": "code",
   "execution_count": 3,
   "id": "6ffd18ba",
   "metadata": {},
   "outputs": [
    {
     "name": "stderr",
     "output_type": "stream",
     "text": [
      "c:\\Users\\moham\\OneDrive\\Documents\\Projects\\Assignments\\3rdyear\\2nd\\supervised\\a3\\.venv\\Lib\\site-packages\\librosa\\core\\spectrum.py:266: UserWarning: n_fft=2048 is too large for input signal of length=1933\n",
      "  warnings.warn(\n",
      "c:\\Users\\moham\\OneDrive\\Documents\\Projects\\Assignments\\3rdyear\\2nd\\supervised\\a3\\.venv\\Lib\\site-packages\\librosa\\core\\spectrum.py:266: UserWarning: n_fft=2048 is too large for input signal of length=1399\n",
      "  warnings.warn(\n",
      "c:\\Users\\moham\\OneDrive\\Documents\\Projects\\Assignments\\3rdyear\\2nd\\supervised\\a3\\.venv\\Lib\\site-packages\\librosa\\core\\spectrum.py:266: UserWarning: n_fft=2048 is too large for input signal of length=1876\n",
      "  warnings.warn(\n",
      "c:\\Users\\moham\\OneDrive\\Documents\\Projects\\Assignments\\3rdyear\\2nd\\supervised\\a3\\.venv\\Lib\\site-packages\\librosa\\core\\spectrum.py:266: UserWarning: n_fft=2048 is too large for input signal of length=1983\n",
      "  warnings.warn(\n",
      "c:\\Users\\moham\\OneDrive\\Documents\\Projects\\Assignments\\3rdyear\\2nd\\supervised\\a3\\.venv\\Lib\\site-packages\\librosa\\core\\spectrum.py:266: UserWarning: n_fft=2048 is too large for input signal of length=2033\n",
      "  warnings.warn(\n",
      "c:\\Users\\moham\\OneDrive\\Documents\\Projects\\Assignments\\3rdyear\\2nd\\supervised\\a3\\.venv\\Lib\\site-packages\\librosa\\core\\spectrum.py:266: UserWarning: n_fft=2048 is too large for input signal of length=1963\n",
      "  warnings.warn(\n",
      "c:\\Users\\moham\\OneDrive\\Documents\\Projects\\Assignments\\3rdyear\\2nd\\supervised\\a3\\.venv\\Lib\\site-packages\\librosa\\core\\spectrum.py:266: UserWarning: n_fft=2048 is too large for input signal of length=2007\n",
      "  warnings.warn(\n",
      "c:\\Users\\moham\\OneDrive\\Documents\\Projects\\Assignments\\3rdyear\\2nd\\supervised\\a3\\.venv\\Lib\\site-packages\\librosa\\core\\spectrum.py:266: UserWarning: n_fft=2048 is too large for input signal of length=1976\n",
      "  warnings.warn(\n",
      "c:\\Users\\moham\\OneDrive\\Documents\\Projects\\Assignments\\3rdyear\\2nd\\supervised\\a3\\.venv\\Lib\\site-packages\\librosa\\core\\spectrum.py:266: UserWarning: n_fft=2048 is too large for input signal of length=1987\n",
      "  warnings.warn(\n",
      "c:\\Users\\moham\\OneDrive\\Documents\\Projects\\Assignments\\3rdyear\\2nd\\supervised\\a3\\.venv\\Lib\\site-packages\\librosa\\core\\spectrum.py:266: UserWarning: n_fft=2048 is too large for input signal of length=1886\n",
      "  warnings.warn(\n",
      "c:\\Users\\moham\\OneDrive\\Documents\\Projects\\Assignments\\3rdyear\\2nd\\supervised\\a3\\.venv\\Lib\\site-packages\\librosa\\core\\spectrum.py:266: UserWarning: n_fft=2048 is too large for input signal of length=1842\n",
      "  warnings.warn(\n",
      "c:\\Users\\moham\\OneDrive\\Documents\\Projects\\Assignments\\3rdyear\\2nd\\supervised\\a3\\.venv\\Lib\\site-packages\\librosa\\core\\spectrum.py:266: UserWarning: n_fft=2048 is too large for input signal of length=1753\n",
      "  warnings.warn(\n",
      "c:\\Users\\moham\\OneDrive\\Documents\\Projects\\Assignments\\3rdyear\\2nd\\supervised\\a3\\.venv\\Lib\\site-packages\\librosa\\core\\spectrum.py:266: UserWarning: n_fft=2048 is too large for input signal of length=1870\n",
      "  warnings.warn(\n",
      "c:\\Users\\moham\\OneDrive\\Documents\\Projects\\Assignments\\3rdyear\\2nd\\supervised\\a3\\.venv\\Lib\\site-packages\\librosa\\core\\spectrum.py:266: UserWarning: n_fft=2048 is too large for input signal of length=1813\n",
      "  warnings.warn(\n",
      "c:\\Users\\moham\\OneDrive\\Documents\\Projects\\Assignments\\3rdyear\\2nd\\supervised\\a3\\.venv\\Lib\\site-packages\\librosa\\core\\spectrum.py:266: UserWarning: n_fft=2048 is too large for input signal of length=1891\n",
      "  warnings.warn(\n",
      "c:\\Users\\moham\\OneDrive\\Documents\\Projects\\Assignments\\3rdyear\\2nd\\supervised\\a3\\.venv\\Lib\\site-packages\\librosa\\core\\spectrum.py:266: UserWarning: n_fft=2048 is too large for input signal of length=1788\n",
      "  warnings.warn(\n",
      "c:\\Users\\moham\\OneDrive\\Documents\\Projects\\Assignments\\3rdyear\\2nd\\supervised\\a3\\.venv\\Lib\\site-packages\\librosa\\core\\spectrum.py:266: UserWarning: n_fft=2048 is too large for input signal of length=1556\n",
      "  warnings.warn(\n",
      "c:\\Users\\moham\\OneDrive\\Documents\\Projects\\Assignments\\3rdyear\\2nd\\supervised\\a3\\.venv\\Lib\\site-packages\\librosa\\core\\spectrum.py:266: UserWarning: n_fft=2048 is too large for input signal of length=1997\n",
      "  warnings.warn(\n",
      "c:\\Users\\moham\\OneDrive\\Documents\\Projects\\Assignments\\3rdyear\\2nd\\supervised\\a3\\.venv\\Lib\\site-packages\\librosa\\core\\spectrum.py:266: UserWarning: n_fft=2048 is too large for input signal of length=1720\n",
      "  warnings.warn(\n",
      "c:\\Users\\moham\\OneDrive\\Documents\\Projects\\Assignments\\3rdyear\\2nd\\supervised\\a3\\.venv\\Lib\\site-packages\\librosa\\core\\spectrum.py:266: UserWarning: n_fft=2048 is too large for input signal of length=1692\n",
      "  warnings.warn(\n",
      "c:\\Users\\moham\\OneDrive\\Documents\\Projects\\Assignments\\3rdyear\\2nd\\supervised\\a3\\.venv\\Lib\\site-packages\\librosa\\core\\spectrum.py:266: UserWarning: n_fft=2048 is too large for input signal of length=1565\n",
      "  warnings.warn(\n",
      "c:\\Users\\moham\\OneDrive\\Documents\\Projects\\Assignments\\3rdyear\\2nd\\supervised\\a3\\.venv\\Lib\\site-packages\\librosa\\core\\spectrum.py:266: UserWarning: n_fft=2048 is too large for input signal of length=1737\n",
      "  warnings.warn(\n",
      "c:\\Users\\moham\\OneDrive\\Documents\\Projects\\Assignments\\3rdyear\\2nd\\supervised\\a3\\.venv\\Lib\\site-packages\\librosa\\core\\spectrum.py:266: UserWarning: n_fft=2048 is too large for input signal of length=1760\n",
      "  warnings.warn(\n",
      "c:\\Users\\moham\\OneDrive\\Documents\\Projects\\Assignments\\3rdyear\\2nd\\supervised\\a3\\.venv\\Lib\\site-packages\\librosa\\core\\spectrum.py:266: UserWarning: n_fft=2048 is too large for input signal of length=1890\n",
      "  warnings.warn(\n",
      "c:\\Users\\moham\\OneDrive\\Documents\\Projects\\Assignments\\3rdyear\\2nd\\supervised\\a3\\.venv\\Lib\\site-packages\\librosa\\core\\spectrum.py:266: UserWarning: n_fft=2048 is too large for input signal of length=1785\n",
      "  warnings.warn(\n"
     ]
    },
    {
     "name": "stdout",
     "output_type": "stream",
     "text": [
      "Training set size: 480\n",
      "Test set size: 120\n",
      "Number of features: 16\n",
      "Unique labels in training set: [0 1]\n",
      "Unique labels in test set: [0 1]\n"
     ]
    },
    {
     "name": "stderr",
     "output_type": "stream",
     "text": [
      "c:\\Users\\moham\\OneDrive\\Documents\\Projects\\Assignments\\3rdyear\\2nd\\supervised\\a3\\.venv\\Lib\\site-packages\\librosa\\core\\spectrum.py:266: UserWarning: n_fft=2048 is too large for input signal of length=2016\n",
      "  warnings.warn(\n"
     ]
    }
   ],
   "source": [
    "X, y = load_fsdd_features()\n",
    "X_train, X_test, y_train, y_test = train_test_split(X, y, test_size=0.2, stratify=y, random_state=42)\n",
    "\n",
    "print(f\"Training set size: {X_train.shape[0]}\")\n",
    "print(f\"Test set size: {X_test.shape[0]}\")\n",
    "print(f\"Number of features: {X_train.shape[1]}\")\n",
    "print(f\"Unique labels in training set: {np.unique(y_train)}\")\n",
    "print(f\"Unique labels in test set: {np.unique(y_test)}\")"
   ]
  },
  {
   "cell_type": "code",
   "execution_count": 4,
   "id": "9b132b8e",
   "metadata": {},
   "outputs": [],
   "source": [
    "class NaiveBayesClassifier:\n",
    "    def __init__(self):\n",
    "        self.classes = None\n",
    "        self.mean = {}\n",
    "        self.var = {}\n",
    "        self.priors = {}\n",
    "\n",
    "    def fit(self, X, y):\n",
    "        self.classes = np.unique(y)\n",
    "        for cls in self.classes:\n",
    "            X_cls = X[y == cls]\n",
    "            self.mean[cls] = np.mean(X_cls, axis=0)\n",
    "            self.var[cls] = np.var(X_cls, axis=0)\n",
    "            self.priors[cls] = X_cls.shape[0] / X.shape[0]\n",
    "\n",
    "    def _gaussian_pdf(self, x, mean, var):\n",
    "        eps = 1e-6  # To avoid division by zero\n",
    "        coeff = 1.0 / np.sqrt(2.0 * np.pi * var + eps)\n",
    "        exponent = np.exp(-((x - mean) ** 2) / (2.0 * var + eps))\n",
    "        return coeff * exponent\n",
    "\n",
    "    def _predict_single(self, x):\n",
    "        posteriors = {}\n",
    "        for cls in self.classes:\n",
    "            prior = np.log(self.priors[cls])\n",
    "            likelihood = np.sum(np.log(self._gaussian_pdf(x, self.mean[cls], self.var[cls])))\n",
    "            posteriors[cls] = prior + likelihood\n",
    "        return max(posteriors, key=posteriors.get)\n",
    "\n",
    "    def predict(self, X):\n",
    "        return np.array([self._predict_single(x) for x in X])\n",
    "\n",
    "# Training\n",
    "nb_classifier = NaiveBayesClassifier()\n",
    "nb_classifier.fit(X_train, y_train)\n",
    "\n",
    "# Predicting\n",
    "y_pred = nb_classifier.predict(X_test)\n"
   ]
  },
  {
   "cell_type": "code",
   "execution_count": 5,
   "id": "62e2c86b",
   "metadata": {},
   "outputs": [
    {
     "name": "stdout",
     "output_type": "stream",
     "text": [
      "              precision    recall  f1-score   support\n",
      "\n",
      "           0       0.89      0.95      0.92        60\n",
      "           1       0.95      0.88      0.91        60\n",
      "\n",
      "    accuracy                           0.92       120\n",
      "   macro avg       0.92      0.92      0.92       120\n",
      "weighted avg       0.92      0.92      0.92       120\n",
      "\n"
     ]
    }
   ],
   "source": [
    "from sklearn.metrics import classification_report\n",
    "print(classification_report(y_test, y_pred))\n"
   ]
  },
  {
   "cell_type": "code",
   "execution_count": null,
   "id": "92f3b285",
   "metadata": {},
   "outputs": [],
   "source": [
    "from collections import Counter\n",
    "import numpy as np\n",
    "\n",
    "def bagging_ensemble_nb(X_train, y_train, X_test, n_estimators=10):\n",
    "    preds = []\n",
    "\n",
    "    for _ in range(n_estimators):\n",
    "        \n",
    "        indices = np.random.choice(len(X_train), size=len(X_train), replace=True)\n",
    "        X_sample = X_train[indices]\n",
    "        y_sample = y_train[indices]\n",
    "        \n",
    "        model = NaiveBayesClassifier()\n",
    "        model.fit(X_sample, y_sample)\n",
    "        preds.append(model.predict(X_test))\n",
    "\n",
    "    \n",
    "    final_preds = np.array([\n",
    "        Counter(sample_preds).most_common(1)[0][0]\n",
    "        for sample_preds in zip(*preds)\n",
    "    ])\n",
    "    \n",
    "    return final_preds\n"
   ]
  },
  {
   "cell_type": "code",
   "execution_count": null,
   "id": "fbfb381e",
   "metadata": {},
   "outputs": [],
   "source": [
    "from sklearn.linear_model import LogisticRegression\n",
    "\n",
    "def bagging_ensemble_lr(X_train, y_train, X_test, n_estimators=10):\n",
    "    preds = []\n",
    "\n",
    "    for _ in range(n_estimators):\n",
    "        indices = np.random.choice(len(X_train), size=len(X_train), replace=True)\n",
    "        X_sample = X_train[indices]\n",
    "        y_sample = y_train[indices]\n",
    "\n",
    "        model = LogisticRegression(max_iter=1000)\n",
    "        model.fit(X_sample, y_sample)\n",
    "        preds.append(model.predict(X_test))\n",
    "\n",
    "    \n",
    "    final_preds = np.array([\n",
    "        Counter(sample_preds).most_common(1)[0][0]\n",
    "        for sample_preds in zip(*preds)\n",
    "    ])\n",
    "    \n",
    "    return final_preds\n"
   ]
  },
  {
   "cell_type": "code",
   "execution_count": null,
   "id": "cb421ad4",
   "metadata": {},
   "outputs": [
    {
     "name": "stdout",
     "output_type": "stream",
     "text": [
      "Bagged Naive Bayes\n",
      "              precision    recall  f1-score   support\n",
      "\n",
      "           0       0.89      0.95      0.92        60\n",
      "           1       0.95      0.88      0.91        60\n",
      "\n",
      "    accuracy                           0.92       120\n",
      "   macro avg       0.92      0.92      0.92       120\n",
      "weighted avg       0.92      0.92      0.92       120\n",
      "\n",
      "Bagged Logistic Regression\n",
      "              precision    recall  f1-score   support\n",
      "\n",
      "           0       1.00      0.97      0.98        60\n",
      "           1       0.97      1.00      0.98        60\n",
      "\n",
      "    accuracy                           0.98       120\n",
      "   macro avg       0.98      0.98      0.98       120\n",
      "weighted avg       0.98      0.98      0.98       120\n",
      "\n"
     ]
    }
   ],
   "source": [
    "from sklearn.metrics import classification_report\n",
    "\n",
    "\n",
    "y_pred_bag_nb = bagging_ensemble_nb(X_train, y_train, X_test)\n",
    "print(\"Bagged Naive Bayes\")\n",
    "print(classification_report(y_test, y_pred_bag_nb))\n",
    "\n",
    "\n",
    "y_pred_bag_lr = bagging_ensemble_lr(X_train, y_train, X_test)\n",
    "print(\"Bagged Logistic Regression\")\n",
    "print(classification_report(y_test, y_pred_bag_lr))\n"
   ]
  }
 ],
 "metadata": {
  "kernelspec": {
   "display_name": ".venv",
   "language": "python",
   "name": "python3"
  },
  "language_info": {
   "codemirror_mode": {
    "name": "ipython",
    "version": 3
   },
   "file_extension": ".py",
   "mimetype": "text/x-python",
   "name": "python",
   "nbconvert_exporter": "python",
   "pygments_lexer": "ipython3",
   "version": "3.12.9"
  }
 },
 "nbformat": 4,
 "nbformat_minor": 5
}
