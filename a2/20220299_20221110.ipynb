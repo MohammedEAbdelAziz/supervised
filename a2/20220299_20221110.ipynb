{
 "cells": [
  {
   "cell_type": "markdown",
   "metadata": {
    "vscode": {
     "languageId": "plaintext"
    }
   },
   "source": [
    "# Created By\n",
    "- Mohammed Essam Mohammed 20220299\n",
    "- Amr Ehab Abdel Zahir 20221110"
   ]
  },
  {
   "cell_type": "markdown",
   "metadata": {},
   "source": [
    "## Task 1"
   ]
  },
  {
   "cell_type": "code",
   "execution_count": 13,
   "metadata": {},
   "outputs": [
    {
     "name": "stdout",
     "output_type": "stream",
     "text": [
      "Requirement already satisfied: pandas in c:\\users\\moham\\onedrive\\documents\\projects\\assignments\\3rdyear\\2nd\\supervised\\a2\\.venv\\lib\\site-packages (2.2.3)\n",
      "Requirement already satisfied: scikit-learn in c:\\users\\moham\\onedrive\\documents\\projects\\assignments\\3rdyear\\2nd\\supervised\\a2\\.venv\\lib\\site-packages (1.6.1)\n",
      "Requirement already satisfied: numpy in c:\\users\\moham\\onedrive\\documents\\projects\\assignments\\3rdyear\\2nd\\supervised\\a2\\.venv\\lib\\site-packages (2.2.4)\n",
      "Requirement already satisfied: matplotlib in c:\\users\\moham\\onedrive\\documents\\projects\\assignments\\3rdyear\\2nd\\supervised\\a2\\.venv\\lib\\site-packages (3.10.1)\n",
      "Requirement already satisfied: python-dateutil>=2.8.2 in c:\\users\\moham\\onedrive\\documents\\projects\\assignments\\3rdyear\\2nd\\supervised\\a2\\.venv\\lib\\site-packages (from pandas) (2.9.0.post0)\n",
      "Requirement already satisfied: pytz>=2020.1 in c:\\users\\moham\\onedrive\\documents\\projects\\assignments\\3rdyear\\2nd\\supervised\\a2\\.venv\\lib\\site-packages (from pandas) (2025.1)\n",
      "Requirement already satisfied: tzdata>=2022.7 in c:\\users\\moham\\onedrive\\documents\\projects\\assignments\\3rdyear\\2nd\\supervised\\a2\\.venv\\lib\\site-packages (from pandas) (2025.1)\n",
      "Requirement already satisfied: scipy>=1.6.0 in c:\\users\\moham\\onedrive\\documents\\projects\\assignments\\3rdyear\\2nd\\supervised\\a2\\.venv\\lib\\site-packages (from scikit-learn) (1.15.2)\n",
      "Requirement already satisfied: joblib>=1.2.0 in c:\\users\\moham\\onedrive\\documents\\projects\\assignments\\3rdyear\\2nd\\supervised\\a2\\.venv\\lib\\site-packages (from scikit-learn) (1.4.2)\n",
      "Requirement already satisfied: threadpoolctl>=3.1.0 in c:\\users\\moham\\onedrive\\documents\\projects\\assignments\\3rdyear\\2nd\\supervised\\a2\\.venv\\lib\\site-packages (from scikit-learn) (3.6.0)\n",
      "Requirement already satisfied: contourpy>=1.0.1 in c:\\users\\moham\\onedrive\\documents\\projects\\assignments\\3rdyear\\2nd\\supervised\\a2\\.venv\\lib\\site-packages (from matplotlib) (1.3.1)\n",
      "Requirement already satisfied: cycler>=0.10 in c:\\users\\moham\\onedrive\\documents\\projects\\assignments\\3rdyear\\2nd\\supervised\\a2\\.venv\\lib\\site-packages (from matplotlib) (0.12.1)\n",
      "Requirement already satisfied: fonttools>=4.22.0 in c:\\users\\moham\\onedrive\\documents\\projects\\assignments\\3rdyear\\2nd\\supervised\\a2\\.venv\\lib\\site-packages (from matplotlib) (4.56.0)\n",
      "Requirement already satisfied: kiwisolver>=1.3.1 in c:\\users\\moham\\onedrive\\documents\\projects\\assignments\\3rdyear\\2nd\\supervised\\a2\\.venv\\lib\\site-packages (from matplotlib) (1.4.8)\n",
      "Requirement already satisfied: packaging>=20.0 in c:\\users\\moham\\onedrive\\documents\\projects\\assignments\\3rdyear\\2nd\\supervised\\a2\\.venv\\lib\\site-packages (from matplotlib) (24.2)\n",
      "Requirement already satisfied: pillow>=8 in c:\\users\\moham\\onedrive\\documents\\projects\\assignments\\3rdyear\\2nd\\supervised\\a2\\.venv\\lib\\site-packages (from matplotlib) (11.1.0)\n",
      "Requirement already satisfied: pyparsing>=2.3.1 in c:\\users\\moham\\onedrive\\documents\\projects\\assignments\\3rdyear\\2nd\\supervised\\a2\\.venv\\lib\\site-packages (from matplotlib) (3.2.1)\n",
      "Requirement already satisfied: six>=1.5 in c:\\users\\moham\\onedrive\\documents\\projects\\assignments\\3rdyear\\2nd\\supervised\\a2\\.venv\\lib\\site-packages (from python-dateutil>=2.8.2->pandas) (1.17.0)\n",
      "Note: you may need to restart the kernel to use updated packages.\n"
     ]
    }
   ],
   "source": [
    "%pip install pandas scikit-learn numpy matplotlib\n",
    "import numpy as np\n",
    "import matplotlib.pyplot as plt\n",
    "from sklearn.model_selection import train_test_split\n",
    "from sklearn.linear_model import LinearRegression"
   ]
  },
  {
   "cell_type": "code",
   "execution_count": 14,
   "metadata": {},
   "outputs": [],
   "source": [
    "np.random.seed(42)\n",
    "X = 2 * np.random.rand(1000, 1)\n",
    "y = 4 * X - 2 + np.random.randn(1000, 1) * 0.5  "
   ]
  },
  {
   "cell_type": "code",
   "execution_count": 15,
   "metadata": {},
   "outputs": [
    {
     "name": "stdout",
     "output_type": "stream",
     "text": [
      "Train (800, 1)\n",
      "Test (200, 1)\n"
     ]
    }
   ],
   "source": [
    "X_train, X_test, y_train, y_test = train_test_split(X, y, test_size=0.2, random_state=42)\n",
    "\n",
    "print(\"Train\", X_train.shape)\n",
    "print(\"Test\", X_test.shape)"
   ]
  },
  {
   "cell_type": "code",
   "execution_count": 16,
   "metadata": {},
   "outputs": [],
   "source": [
    "def BatchGradientDescent(X, y, learning_rate=0.01, epochs=1000):\n",
    "    weights = np.random.rand(X.shape[1], 1)\n",
    "    for _ in range(epochs):\n",
    "        predictions = np.dot(X, weights)\n",
    "        error = y - predictions\n",
    "        weights += learning_rate * np.dot(X.T, error) / X.shape[0]\n",
    "    return weights"
   ]
  },
  {
   "cell_type": "code",
   "execution_count": 17,
   "metadata": {},
   "outputs": [],
   "source": [
    "def StochGradDesc(X, y, learning_rate=0.01, epochs=1000):\n",
    "    weights = np.random.rand(X.shape[1])\n",
    "    for _ in range(epochs):\n",
    "        for i in range(X.shape[0]):\n",
    "            prediction = np.dot(X[i], weights)\n",
    "            error = y[i] - prediction\n",
    "            weights += learning_rate * error * X[i]\n",
    "    return weights"
   ]
  },
  {
   "cell_type": "code",
   "execution_count": 18,
   "metadata": {},
   "outputs": [],
   "source": [
    "def MiniBatchGradDesc(X, y, learning_rate=0.01, epochs=1000, batch_size=10):\n",
    "    weights = np.random.rand(X.shape[1], 1)\n",
    "    for _ in range(epochs):\n",
    "        for i in range(0, X.shape[0], batch_size):\n",
    "            X_batch = X[i:i+batch_size]\n",
    "            y_batch = y[i:i+batch_size]\n",
    "            prediction = np.dot(X_batch, weights)\n",
    "            error = y_batch - prediction\n",
    "            weights += learning_rate * np.dot(X_batch.T, error) / batch_size\n",
    "    return weights\n"
   ]
  },
  {
   "cell_type": "code",
   "execution_count": 19,
   "metadata": {},
   "outputs": [
    {
     "name": "stdout",
     "output_type": "stream",
     "text": [
      "LR MSE: 0.21434311664543843\n",
      "BGD MSE: 1.2485313727443748\n",
      "SGD MSE: 1.2487037809455008\n",
      "MB MSE: 1.2483199573929982\n"
     ]
    }
   ],
   "source": [
    "from sklearn.metrics import mean_squared_error\n",
    "\n",
    "lin_reg = LinearRegression()\n",
    "lin_reg.fit(X_train, y_train)\n",
    "y_pred_sk = lin_reg.predict(X_test)\n",
    "mse_sk = mean_squared_error(y_test, y_pred_sk)\n",
    "print(f\"LR MSE: {mse_sk}\")\n",
    "\n",
    "BGD_weights = BatchGradientDescent(X_train, y_train)\n",
    "BGD_pred = np.dot(X_test, BGD_weights)\n",
    "mse_bgd = mean_squared_error(y_test, BGD_pred)\n",
    "print(f\"BGD MSE: {mse_bgd}\")\n",
    "\n",
    "SGD_weights = StochGradDesc(X_train, y_train)\n",
    "SGD_pred = np.dot(X_test, SGD_weights)\n",
    "mse_sgd = mean_squared_error(y_test, SGD_pred)\n",
    "print(f\"SGD MSE: {mse_sgd}\")\n",
    "\n",
    "MB_weights = MiniBatchGradDesc(X_train, y_train)\n",
    "MB_pred = np.dot(X_test, MB_weights)\n",
    "mse_mbgd = mean_squared_error(y_test, MB_pred)\n",
    "print(f\"MB MSE: {mse_mbgd}\")"
   ]
  },
  {
   "cell_type": "markdown",
   "metadata": {},
   "source": [
    "## Task 2"
   ]
  },
  {
   "cell_type": "code",
   "execution_count": 20,
   "metadata": {},
   "outputs": [
    {
     "name": "stdout",
     "output_type": "stream",
     "text": [
      "Requirement already satisfied: pandas in c:\\users\\moham\\onedrive\\documents\\projects\\assignments\\3rdyear\\2nd\\supervised\\a2\\.venv\\lib\\site-packages (2.2.3)\n",
      "Requirement already satisfied: scikit-learn in c:\\users\\moham\\onedrive\\documents\\projects\\assignments\\3rdyear\\2nd\\supervised\\a2\\.venv\\lib\\site-packages (1.6.1)\n",
      "Requirement already satisfied: numpy>=1.26.0 in c:\\users\\moham\\onedrive\\documents\\projects\\assignments\\3rdyear\\2nd\\supervised\\a2\\.venv\\lib\\site-packages (from pandas) (2.2.4)\n",
      "Requirement already satisfied: python-dateutil>=2.8.2 in c:\\users\\moham\\onedrive\\documents\\projects\\assignments\\3rdyear\\2nd\\supervised\\a2\\.venv\\lib\\site-packages (from pandas) (2.9.0.post0)\n",
      "Requirement already satisfied: pytz>=2020.1 in c:\\users\\moham\\onedrive\\documents\\projects\\assignments\\3rdyear\\2nd\\supervised\\a2\\.venv\\lib\\site-packages (from pandas) (2025.1)\n",
      "Requirement already satisfied: tzdata>=2022.7 in c:\\users\\moham\\onedrive\\documents\\projects\\assignments\\3rdyear\\2nd\\supervised\\a2\\.venv\\lib\\site-packages (from pandas) (2025.1)\n",
      "Requirement already satisfied: scipy>=1.6.0 in c:\\users\\moham\\onedrive\\documents\\projects\\assignments\\3rdyear\\2nd\\supervised\\a2\\.venv\\lib\\site-packages (from scikit-learn) (1.15.2)\n",
      "Requirement already satisfied: joblib>=1.2.0 in c:\\users\\moham\\onedrive\\documents\\projects\\assignments\\3rdyear\\2nd\\supervised\\a2\\.venv\\lib\\site-packages (from scikit-learn) (1.4.2)\n",
      "Requirement already satisfied: threadpoolctl>=3.1.0 in c:\\users\\moham\\onedrive\\documents\\projects\\assignments\\3rdyear\\2nd\\supervised\\a2\\.venv\\lib\\site-packages (from scikit-learn) (3.6.0)\n",
      "Requirement already satisfied: six>=1.5 in c:\\users\\moham\\onedrive\\documents\\projects\\assignments\\3rdyear\\2nd\\supervised\\a2\\.venv\\lib\\site-packages (from python-dateutil>=2.8.2->pandas) (1.17.0)\n",
      "Note: you may need to restart the kernel to use updated packages.\n",
      "   Feature1  Feature2  Label\n",
      "0  0.601034  1.535353      1\n",
      "1  0.755945 -1.172352      0\n",
      "2  1.354479 -0.948528      0\n",
      "3  3.103090  0.233485      0\n",
      "4  0.753178  0.787514      1\n"
     ]
    }
   ],
   "source": [
    "%pip install pandas scikit-learn\n",
    "import pandas as pd\n",
    "import numpy as np\n",
    "from sklearn.datasets import make_classification\n",
    "# Generate binary classification data\n",
    "X, y = make_classification(n_samples=1000, n_features=2, n_informative=2, n_redundant=0, n_clusters_per_class=1, random_state=42)\n",
    "\n",
    "# Convert to DataFrame for easier handling\n",
    "data = pd.DataFrame(X, columns=['Feature1', 'Feature2'])\n",
    "data['Label'] = y\n",
    "\n",
    "print(data.head())"
   ]
  },
  {
   "cell_type": "code",
   "execution_count": 21,
   "metadata": {},
   "outputs": [
    {
     "name": "stdout",
     "output_type": "stream",
     "text": [
      "Train (800, 2)\n",
      "Test (200, 2)\n"
     ]
    }
   ],
   "source": [
    "from sklearn.model_selection import train_test_split\n",
    "\n",
    "X_train, X_test, y_train, y_test = train_test_split(X, y, test_size=0.2, random_state=42)\n",
    "\n",
    "print(\"Train\", X_train.shape)\n",
    "print(\"Test\", X_test.shape)"
   ]
  },
  {
   "cell_type": "code",
   "execution_count": 22,
   "metadata": {},
   "outputs": [],
   "source": [
    "def sigmoid(z):\n",
    "    return 1 / (1 + np.exp(-z))"
   ]
  },
  {
   "cell_type": "code",
   "execution_count": 23,
   "metadata": {},
   "outputs": [],
   "source": [
    "def BatchGradientDescent(X, y, learning_rate=0.01, epochs=100):\n",
    "    weights = np.random.rand(X.shape[1])\n",
    "    for _ in range(epochs):\n",
    "        predictions = sigmoid(np.dot(X, weights))\n",
    "        error = y - predictions\n",
    "        weights += learning_rate * np.dot(X.T, error)\n",
    "    return weights\n",
    "\n",
    "BGD_weights = BatchGradientDescent(X_train, y_train)\n",
    "BGD_pred = sigmoid(np.dot(X_test, BGD_weights)) > 0.5"
   ]
  },
  {
   "cell_type": "code",
   "execution_count": 24,
   "metadata": {},
   "outputs": [],
   "source": [
    "def StochasticGradientDescent(X, y, learning_rate=0.01, epochs=100):\n",
    "    weights = np.random.rand(X.shape[1])\n",
    "    for _ in range(epochs):\n",
    "        for i in range(X.shape[0]):\n",
    "            xi = X[i, :].reshape(1, -1)\n",
    "            yi = y[i]\n",
    "            prediction = sigmoid(np.dot(xi, weights))\n",
    "            error = yi - prediction\n",
    "            weights += learning_rate * np.dot(xi.T, error)\n",
    "    return weights\n",
    "\n",
    "SGD_weights = StochasticGradientDescent(X_train, y_train)\n",
    "SGD_pred = sigmoid(np.dot(X_test, SGD_weights)) > 0.5"
   ]
  },
  {
   "cell_type": "code",
   "execution_count": 25,
   "metadata": {},
   "outputs": [],
   "source": [
    "def MiniBatchGradientDescent(X, y, learning_rate=0.01, epochs=100, batch_size=32):\n",
    "    weights = np.random.rand(X.shape[1])\n",
    "    for _ in range(epochs):\n",
    "        indices = np.random.permutation(X.shape[0])\n",
    "        X_shuffled = X[indices]\n",
    "        y_shuffled = y[indices]\n",
    "        for start in range(0, X.shape[0], batch_size):\n",
    "            end = start + batch_size\n",
    "            X_batch = X_shuffled[start:end]\n",
    "            y_batch = y_shuffled[start:end]\n",
    "            predictions = sigmoid(np.dot(X_batch, weights))\n",
    "            error = y_batch - predictions\n",
    "            weights += learning_rate * np.dot(X_batch.T, error) / batch_size\n",
    "    return weights\n",
    "\n",
    "MBGD_weights = MiniBatchGradientDescent(X_train, y_train)\n",
    "MBGD_pred = sigmoid(np.dot(X_test, MBGD_weights)) > 0.5"
   ]
  },
  {
   "cell_type": "code",
   "execution_count": 26,
   "metadata": {},
   "outputs": [
    {
     "name": "stdout",
     "output_type": "stream",
     "text": [
      "BGD: 0.84\n",
      "SGD: 0.895\n",
      "MBGD: 0.895\n",
      "LR: 0.9\n"
     ]
    }
   ],
   "source": [
    "from sklearn.metrics import accuracy_score\n",
    "from sklearn.linear_model import LogisticRegression\n",
    "\n",
    "BGD_accuracy = accuracy_score(y_test, BGD_pred)\n",
    "print(f\"BGD: {BGD_accuracy}\")\n",
    "\n",
    "SGD_accuracy = accuracy_score(y_test, SGD_pred)\n",
    "print(f\"SGD: {SGD_accuracy}\")\n",
    "\n",
    "MBGD_accuracy = accuracy_score(y_test, MBGD_pred)\n",
    "print(f\"MBGD: {MBGD_accuracy}\")\n",
    "\n",
    "log_reg = LogisticRegression()\n",
    "log_reg.fit(X_train, y_train)\n",
    "y_pred_sk = log_reg.predict(X_test)\n",
    "\n",
    "accuracy_sk = accuracy_score(y_test, y_pred_sk > 0.5)\n",
    "print(f\"LR: {accuracy_sk}\")"
   ]
  }
 ],
 "metadata": {
  "kernelspec": {
   "display_name": ".venv",
   "language": "python",
   "name": "python3"
  },
  "language_info": {
   "codemirror_mode": {
    "name": "ipython",
    "version": 3
   },
   "file_extension": ".py",
   "mimetype": "text/x-python",
   "name": "python",
   "nbconvert_exporter": "python",
   "pygments_lexer": "ipython3",
   "version": "3.12.9"
  }
 },
 "nbformat": 4,
 "nbformat_minor": 2
}
